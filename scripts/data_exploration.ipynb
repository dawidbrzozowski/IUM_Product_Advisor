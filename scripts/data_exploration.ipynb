{
 "cells": [
  {
   "cell_type": "code",
   "execution_count": 1,
   "metadata": {},
   "outputs": [],
   "source": [
    "import pandas as pd\n",
    "import os\n",
    "import sys\n",
    "sys.path.insert(0, os.path.abspath('..'))\n",
    "from utils.files_io import load_jsonl"
   ]
  },
  {
   "cell_type": "code",
   "execution_count": 2,
   "metadata": {},
   "outputs": [],
   "source": [
    "USERS_PATH = '../data/users.jsonl'\n",
    "DELIVERIES_PATH = '../data/deliveries.jsonl'\n",
    "SESSIONS_PATH = '../data/sessions.jsonl'\n",
    "PRODUCTS_PATH = '../data/products.jsonl'"
   ]
  },
  {
   "cell_type": "code",
   "execution_count": 3,
   "metadata": {},
   "outputs": [
    {
     "data": {
      "text/html": [
       "<div>\n",
       "<style scoped>\n",
       "    .dataframe tbody tr th:only-of-type {\n",
       "        vertical-align: middle;\n",
       "    }\n",
       "\n",
       "    .dataframe tbody tr th {\n",
       "        vertical-align: top;\n",
       "    }\n",
       "\n",
       "    .dataframe thead th {\n",
       "        text-align: right;\n",
       "    }\n",
       "</style>\n",
       "<table border=\"1\" class=\"dataframe\">\n",
       "  <thead>\n",
       "    <tr style=\"text-align: right;\">\n",
       "      <th></th>\n",
       "      <th>user_id</th>\n",
       "      <th>name</th>\n",
       "      <th>city</th>\n",
       "      <th>street</th>\n",
       "    </tr>\n",
       "  </thead>\n",
       "  <tbody>\n",
       "    <tr>\n",
       "      <th>0</th>\n",
       "      <td>102</td>\n",
       "      <td>Julianna Kościelak</td>\n",
       "      <td>Konin</td>\n",
       "      <td>pl. Ludowa 70/77</td>\n",
       "    </tr>\n",
       "    <tr>\n",
       "      <th>1</th>\n",
       "      <td>103</td>\n",
       "      <td>Sonia Greszta</td>\n",
       "      <td>Radom</td>\n",
       "      <td>ulica Wiatraczna 24/55</td>\n",
       "    </tr>\n",
       "    <tr>\n",
       "      <th>2</th>\n",
       "      <td>104</td>\n",
       "      <td>Ryszard Kusek</td>\n",
       "      <td>Mielec</td>\n",
       "      <td>ul. Głowackiego 41</td>\n",
       "    </tr>\n",
       "    <tr>\n",
       "      <th>3</th>\n",
       "      <td>105</td>\n",
       "      <td>Antoni Pawela</td>\n",
       "      <td>Gdynia</td>\n",
       "      <td>aleja Krasickiego 00</td>\n",
       "    </tr>\n",
       "    <tr>\n",
       "      <th>4</th>\n",
       "      <td>106</td>\n",
       "      <td>Sandra Kleban</td>\n",
       "      <td>Warszawa</td>\n",
       "      <td>al. Sokola 33/29</td>\n",
       "    </tr>\n",
       "  </tbody>\n",
       "</table>\n",
       "</div>"
      ],
      "text/plain": [
       "   user_id                name      city                  street\n",
       "0      102  Julianna Kościelak     Konin        pl. Ludowa 70/77\n",
       "1      103       Sonia Greszta     Radom  ulica Wiatraczna 24/55\n",
       "2      104       Ryszard Kusek    Mielec      ul. Głowackiego 41\n",
       "3      105       Antoni Pawela    Gdynia    aleja Krasickiego 00\n",
       "4      106       Sandra Kleban  Warszawa        al. Sokola 33/29"
      ]
     },
     "execution_count": 3,
     "metadata": {},
     "output_type": "execute_result"
    }
   ],
   "source": [
    "users = pd.DataFrame(load_jsonl(USERS_PATH))\n",
    "users.head()"
   ]
  }
 ],
 "metadata": {
  "kernelspec": {
   "display_name": "Python 3",
   "language": "python",
   "name": "python3"
  },
  "language_info": {
   "codemirror_mode": {
    "name": "ipython",
    "version": 3
   },
   "file_extension": ".py",
   "mimetype": "text/x-python",
   "name": "python",
   "nbconvert_exporter": "python",
   "pygments_lexer": "ipython3",
   "version": "3.6.9"
  }
 },
 "nbformat": 4,
 "nbformat_minor": 4
}
